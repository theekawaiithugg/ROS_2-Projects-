{
 "cells": [
  {
   "cell_type": "markdown",
   "id": "e9e2623e-f123-46d5-98c7-d7d3892d6451",
   "metadata": {},
   "source": [
    "# Setting up wsl\n",
    "## for linux pc setup\n",
    "\n",
    "## install WSL\n",
    "run Windows PowerShell as Administrator\n",
    "\n",
    "install and run UBUNTU\n",
    "install ROS2 Humble Hawksbill EOL in May 2027\n",
    "1. *Locale Configuration*\n",
    "```bash\n",
    "locale  # Check current locale settings\n",
    "sudo apt update && sudo apt install locales\n",
    "sudo locale-gen en_US en_US.UTF-8\n",
    "sudo update-locale LC_ALL=en_US.UTF-8 LANG=en_US.UTF-8\n",
    "export LANG=en_US.UTF-8\n",
    "locale  # Confirm updated locale settings\n",
    "```\n",
    "\n",
    "2. *Software Properties and Universe Repository*\n",
    "```bash\n",
    "sudo apt install software-properties-common\n",
    "sudo add-apt-repository universe\n",
    "```\n",
    "\n",
    "3. *Curl Installation and ROS Key*\n",
    "```bash\n",
    "sudo apt update && sudo apt install curl -y\n",
    "sudo curl -sSL https://raw.githubusercontent.com/ros... -o /usr/share/keyrings/ros-archive-keyring.gpg\n",
    "```\n",
    "\n",
    "4. *ROS2 Sources Configuration*\n",
    "```bash\n",
    "echo \"deb [arch=$(dpkg --print-architecture) signed-by=/usr/share/keyrings/ros-archive-keyring.gpg] http://packages.ros.org/ros2/ubuntu $(. /etc/os-release && echo $UBUNTU_CODENAME) main\" | sudo tee /etc/apt/sources.list.d/ros2.list (greater than**) /dev/null\n",
    "```\n",
    "Replace (greater than**) with actual symbol (youtube doesn't allow the symbol) \n",
    "\n",
    "5. *Update and Upgrade*\n",
    "```bash\n",
    "sudo apt update\n",
    "sudo apt upgrade\n",
    "```\n",
    "\n",
    "6. *ROS Desktop Installation*\n",
    "```bash\n",
    "sudo apt install ros-humble-desktop\n",
    "```\n",
    "\n",
    "7. *ROS Environment Setup*\n",
    "```bash\n",
    "source /opt/ros/humble/setup.bash\n",
    "```\n",
    "\n",
    "8. *ROS2 Command Check*\n",
    "```bash\n",
    "ros2 \n",
    "```\n"
   ]
  },
  {
   "cell_type": "code",
   "execution_count": null,
   "id": "608c6bfa-dda1-4110-9e9e-327e815c00ce",
   "metadata": {},
   "outputs": [],
   "source": [
    "\n",
    "you have to source your ros2 to use ros 2 commands letting the comp know where ros 2 is located. "
   ]
  }
 ],
 "metadata": {
  "kernelspec": {
   "display_name": "Python 3 (ipykernel)",
   "language": "python",
   "name": "python3"
  },
  "language_info": {
   "codemirror_mode": {
    "name": "ipython",
    "version": 3
   },
   "file_extension": ".py",
   "mimetype": "text/x-python",
   "name": "python",
   "nbconvert_exporter": "python",
   "pygments_lexer": "ipython3",
   "version": "3.12.11"
  }
 },
 "nbformat": 4,
 "nbformat_minor": 5
}
